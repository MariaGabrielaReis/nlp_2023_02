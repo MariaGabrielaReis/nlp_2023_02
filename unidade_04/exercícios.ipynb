{
 "cells": [
  {
   "cell_type": "markdown",
   "id": "24104bd2",
   "metadata": {
    "papermill": {
     "duration": 0.007929,
     "end_time": "2023-11-13T23:51:27.251187",
     "exception": false,
     "start_time": "2023-11-13T23:51:27.243258",
     "status": "completed"
    },
    "tags": []
   },
   "source": [
    "# Exercícios: Modelos avançados para processamento de linguagem natural \n",
    "Fonte: CARVALHO, Fabrício Galende Marques de. **Notas de aula da disciplina de processamento de linguagem natural.** São José dos Campos, 2023."
   ]
  },
  {
   "cell_type": "markdown",
   "id": "242a9e86",
   "metadata": {
    "papermill": {
     "duration": 0.007091,
     "end_time": "2023-11-13T23:51:27.266107",
     "exception": false,
     "start_time": "2023-11-13T23:51:27.259016",
     "status": "completed"
    },
    "tags": []
   },
   "source": [
    "## Prática de programação\n",
    "---\n",
    "\n",
    "1. (PP.4.1) Construa um modelo do tipo word2vec (W2V) para classificação de revisões de produto que atenda aos seguintes critérios:\n",
    "    - O modelo deve operar sobre dados de revisão que tenham sido pré-processados;\n",
    "    - O modelo deve ser comparado, em termos de desempenho de classificação, com um modelo clássico do tipo bag of words (BOW) com transformação TFIDF.\n",
    "    - Para a classificação, utilizar no mínimo 15 reviews de treinamento, classificador utilizando Multilayer Perceptron e mais 45 reviews de validação, sendo elas igualmente distribuídas entre revisões positivas, negativas e neutras.\n",
    "    \n",
    "Crie uma tabela comparativa entre o BOW e W2V que mostre o percentual de acerto das reviews e a probabilidade média relacionada aos acertos. \n"
   ]
  },
  {
   "cell_type": "markdown",
   "id": "235b89ea",
   "metadata": {
    "papermill": {
     "duration": 0.00704,
     "end_time": "2023-11-13T23:51:27.280540",
     "exception": false,
     "start_time": "2023-11-13T23:51:27.273500",
     "status": "completed"
    },
    "tags": []
   },
   "source": [
    "### Acesso e pré processamento dos dados"
   ]
  },
  {
   "cell_type": "code",
   "execution_count": 1,
   "id": "ef7e84f4",
   "metadata": {
    "execution": {
     "iopub.execute_input": "2023-11-13T23:51:27.297881Z",
     "iopub.status.busy": "2023-11-13T23:51:27.297201Z",
     "iopub.status.idle": "2023-11-13T23:52:47.346444Z",
     "shell.execute_reply": "2023-11-13T23:52:47.345257Z"
    },
    "papermill": {
     "duration": 80.061419,
     "end_time": "2023-11-13T23:52:47.349329",
     "exception": false,
     "start_time": "2023-11-13T23:51:27.287910",
     "status": "completed"
    },
    "tags": []
   },
   "outputs": [
    {
     "name": "stdout",
     "output_type": "stream",
     "text": [
      "\u001b[38;5;3m⚠ As of spaCy v3.0, shortcuts like 'pt' are deprecated. Please use the\r\n",
      "full pipeline package name 'pt_core_news_sm' instead.\u001b[0m\r\n",
      "Collecting pt-core-news-sm==3.6.0\r\n",
      "  Downloading https://github.com/explosion/spacy-models/releases/download/pt_core_news_sm-3.6.0/pt_core_news_sm-3.6.0-py3-none-any.whl (13.0 MB)\r\n",
      "\u001b[2K     \u001b[90m━━━━━━━━━━━━━━━━━━━━━━━━━━━━━━━━━━━━━━━━\u001b[0m \u001b[32m13.0/13.0 MB\u001b[0m \u001b[31m45.3 MB/s\u001b[0m eta \u001b[36m0:00:00\u001b[0m\r\n",
      "\u001b[?25hRequirement already satisfied: spacy<3.7.0,>=3.6.0 in /opt/conda/lib/python3.10/site-packages (from pt-core-news-sm==3.6.0) (3.6.1)\r\n",
      "Requirement already satisfied: spacy-legacy<3.1.0,>=3.0.11 in /opt/conda/lib/python3.10/site-packages (from spacy<3.7.0,>=3.6.0->pt-core-news-sm==3.6.0) (3.0.12)\r\n",
      "Requirement already satisfied: spacy-loggers<2.0.0,>=1.0.0 in /opt/conda/lib/python3.10/site-packages (from spacy<3.7.0,>=3.6.0->pt-core-news-sm==3.6.0) (1.0.4)\r\n",
      "Requirement already satisfied: murmurhash<1.1.0,>=0.28.0 in /opt/conda/lib/python3.10/site-packages (from spacy<3.7.0,>=3.6.0->pt-core-news-sm==3.6.0) (1.0.9)\r\n",
      "Requirement already satisfied: cymem<2.1.0,>=2.0.2 in /opt/conda/lib/python3.10/site-packages (from spacy<3.7.0,>=3.6.0->pt-core-news-sm==3.6.0) (2.0.7)\r\n",
      "Requirement already satisfied: preshed<3.1.0,>=3.0.2 in /opt/conda/lib/python3.10/site-packages (from spacy<3.7.0,>=3.6.0->pt-core-news-sm==3.6.0) (3.0.8)\r\n",
      "Requirement already satisfied: thinc<8.2.0,>=8.1.8 in /opt/conda/lib/python3.10/site-packages (from spacy<3.7.0,>=3.6.0->pt-core-news-sm==3.6.0) (8.1.12)\r\n",
      "Requirement already satisfied: wasabi<1.2.0,>=0.9.1 in /opt/conda/lib/python3.10/site-packages (from spacy<3.7.0,>=3.6.0->pt-core-news-sm==3.6.0) (1.1.2)\r\n",
      "Requirement already satisfied: srsly<3.0.0,>=2.4.3 in /opt/conda/lib/python3.10/site-packages (from spacy<3.7.0,>=3.6.0->pt-core-news-sm==3.6.0) (2.4.7)\r\n",
      "Requirement already satisfied: catalogue<2.1.0,>=2.0.6 in /opt/conda/lib/python3.10/site-packages (from spacy<3.7.0,>=3.6.0->pt-core-news-sm==3.6.0) (2.0.9)\r\n",
      "Requirement already satisfied: typer<0.10.0,>=0.3.0 in /opt/conda/lib/python3.10/site-packages (from spacy<3.7.0,>=3.6.0->pt-core-news-sm==3.6.0) (0.9.0)\r\n",
      "Requirement already satisfied: pathy>=0.10.0 in /opt/conda/lib/python3.10/site-packages (from spacy<3.7.0,>=3.6.0->pt-core-news-sm==3.6.0) (0.10.2)\r\n",
      "Requirement already satisfied: smart-open<7.0.0,>=5.2.1 in /opt/conda/lib/python3.10/site-packages (from spacy<3.7.0,>=3.6.0->pt-core-news-sm==3.6.0) (6.3.0)\r\n",
      "Requirement already satisfied: tqdm<5.0.0,>=4.38.0 in /opt/conda/lib/python3.10/site-packages (from spacy<3.7.0,>=3.6.0->pt-core-news-sm==3.6.0) (4.66.1)\r\n",
      "Requirement already satisfied: numpy>=1.15.0 in /opt/conda/lib/python3.10/site-packages (from spacy<3.7.0,>=3.6.0->pt-core-news-sm==3.6.0) (1.23.5)\r\n",
      "Requirement already satisfied: requests<3.0.0,>=2.13.0 in /opt/conda/lib/python3.10/site-packages (from spacy<3.7.0,>=3.6.0->pt-core-news-sm==3.6.0) (2.31.0)\r\n",
      "Requirement already satisfied: pydantic!=1.8,!=1.8.1,<3.0.0,>=1.7.4 in /opt/conda/lib/python3.10/site-packages (from spacy<3.7.0,>=3.6.0->pt-core-news-sm==3.6.0) (1.10.9)\r\n",
      "Requirement already satisfied: jinja2 in /opt/conda/lib/python3.10/site-packages (from spacy<3.7.0,>=3.6.0->pt-core-news-sm==3.6.0) (3.1.2)\r\n",
      "Requirement already satisfied: setuptools in /opt/conda/lib/python3.10/site-packages (from spacy<3.7.0,>=3.6.0->pt-core-news-sm==3.6.0) (68.0.0)\r\n",
      "Requirement already satisfied: packaging>=20.0 in /opt/conda/lib/python3.10/site-packages (from spacy<3.7.0,>=3.6.0->pt-core-news-sm==3.6.0) (21.3)\r\n",
      "Requirement already satisfied: langcodes<4.0.0,>=3.2.0 in /opt/conda/lib/python3.10/site-packages (from spacy<3.7.0,>=3.6.0->pt-core-news-sm==3.6.0) (3.3.0)\r\n",
      "Requirement already satisfied: pyparsing!=3.0.5,>=2.0.2 in /opt/conda/lib/python3.10/site-packages (from packaging>=20.0->spacy<3.7.0,>=3.6.0->pt-core-news-sm==3.6.0) (3.0.9)\r\n",
      "Requirement already satisfied: typing-extensions>=4.2.0 in /opt/conda/lib/python3.10/site-packages (from pydantic!=1.8,!=1.8.1,<3.0.0,>=1.7.4->spacy<3.7.0,>=3.6.0->pt-core-news-sm==3.6.0) (4.6.3)\r\n",
      "Requirement already satisfied: charset-normalizer<4,>=2 in /opt/conda/lib/python3.10/site-packages (from requests<3.0.0,>=2.13.0->spacy<3.7.0,>=3.6.0->pt-core-news-sm==3.6.0) (3.1.0)\r\n",
      "Requirement already satisfied: idna<4,>=2.5 in /opt/conda/lib/python3.10/site-packages (from requests<3.0.0,>=2.13.0->spacy<3.7.0,>=3.6.0->pt-core-news-sm==3.6.0) (3.4)\r\n",
      "Requirement already satisfied: urllib3<3,>=1.21.1 in /opt/conda/lib/python3.10/site-packages (from requests<3.0.0,>=2.13.0->spacy<3.7.0,>=3.6.0->pt-core-news-sm==3.6.0) (1.26.15)\r\n",
      "Requirement already satisfied: certifi>=2017.4.17 in /opt/conda/lib/python3.10/site-packages (from requests<3.0.0,>=2.13.0->spacy<3.7.0,>=3.6.0->pt-core-news-sm==3.6.0) (2023.7.22)\r\n",
      "Requirement already satisfied: blis<0.8.0,>=0.7.8 in /opt/conda/lib/python3.10/site-packages (from thinc<8.2.0,>=8.1.8->spacy<3.7.0,>=3.6.0->pt-core-news-sm==3.6.0) (0.7.10)\r\n",
      "Requirement already satisfied: confection<1.0.0,>=0.0.1 in /opt/conda/lib/python3.10/site-packages (from thinc<8.2.0,>=8.1.8->spacy<3.7.0,>=3.6.0->pt-core-news-sm==3.6.0) (0.1.1)\r\n",
      "Requirement already satisfied: click<9.0.0,>=7.1.1 in /opt/conda/lib/python3.10/site-packages (from typer<0.10.0,>=0.3.0->spacy<3.7.0,>=3.6.0->pt-core-news-sm==3.6.0) (8.1.7)\r\n",
      "Requirement already satisfied: MarkupSafe>=2.0 in /opt/conda/lib/python3.10/site-packages (from jinja2->spacy<3.7.0,>=3.6.0->pt-core-news-sm==3.6.0) (2.1.3)\r\n",
      "Installing collected packages: pt-core-news-sm\r\n",
      "Successfully installed pt-core-news-sm-3.6.0\r\n",
      "\u001b[38;5;2m✔ Download and installation successful\u001b[0m\r\n",
      "You can now load the package via spacy.load('pt_core_news_sm')\r\n"
     ]
    }
   ],
   "source": [
    "import pandas as pd\n",
    "import spacy\n",
    "import nltk\n",
    "import re\n",
    "import numpy as np\n",
    "from unidecode import unidecode\n",
    "from datetime import datetime\n",
    "\n",
    "from sklearn.feature_extraction.text import TfidfVectorizer\n",
    "from gensim.models.phrases import Phrases, Phraser\n",
    "from gensim.models import word2vec\n",
    "\n",
    "from sklearn.neural_network import MLPClassifier\n",
    "from sklearn.model_selection import train_test_split\n",
    "from sklearn.metrics import accuracy_score, precision_score\n",
    "\n",
    "import matplotlib.pyplot as plt\n",
    "import seaborn as sn\n",
    "\n",
    "!python -m spacy download pt"
   ]
  },
  {
   "cell_type": "code",
   "execution_count": 2,
   "id": "919b1db6",
   "metadata": {
    "execution": {
     "iopub.execute_input": "2023-11-13T23:52:47.372559Z",
     "iopub.status.busy": "2023-11-13T23:52:47.371045Z",
     "iopub.status.idle": "2023-11-13T23:52:52.094608Z",
     "shell.execute_reply": "2023-11-13T23:52:52.093342Z"
    },
    "papermill": {
     "duration": 4.737979,
     "end_time": "2023-11-13T23:52:52.097117",
     "exception": false,
     "start_time": "2023-11-13T23:52:47.359138",
     "status": "completed"
    },
    "tags": []
   },
   "outputs": [
    {
     "data": {
      "text/plain": [
       "sentiment\n",
       "NEGATIVO    20\n",
       "NEUTRO      20\n",
       "POSITIVO    20\n",
       "Name: count, dtype: int64"
      ]
     },
     "execution_count": 2,
     "metadata": {},
     "output_type": "execute_result"
    }
   ],
   "source": [
    "# =============================================================================\n",
    "# Acesso aos dados\n",
    "# ============================================================================= \n",
    "url = 'https://raw.githubusercontent.com/americanas-tech/b2w-reviews01/main/B2W-Reviews01.csv'\n",
    "df = pd.read_csv(url, sep = ',',low_memory=False)\n",
    "\n",
    "# =============================================================================\n",
    "# Análise exploratória e adaptações\n",
    "# ============================================================================= \n",
    "df.rename(columns = {'overall_rating': 'stars','submission_date':'created_at','review_text':'text'}, inplace=True)\n",
    "df['processed_at'] = datetime.now()\n",
    "df = df[~df['text'].isna()].reset_index(drop=True)\n",
    "df = df[df['text'].str.contains(\"\\w\")]\n",
    "df = df[df['text'].str.len() > 3]\n",
    "df = df.drop_duplicates('text').reset_index(drop=True)\n",
    "df['created_at'] = pd.to_datetime(df['created_at'])\n",
    "df = df.drop(columns=[\n",
    "      'reviewer_id', \n",
    "      'product_brand', \n",
    "      'site_category_lv1', \n",
    "      'site_category_lv2', \n",
    "      'review_title',\n",
    "      'recommend_to_a_friend'])\n",
    "\n",
    "# =============================================================================\n",
    "# Selecionando e classificando o sentimento das avaliações\n",
    "# ============================================================================= \n",
    "def random_select(seedNumber, df, sentiment, quantity):\n",
    "    condition = df['stars'] >= 4 # 4 e 5 \"estrelas\"\n",
    "    if(sentiment == 'NEUTRO'):\n",
    "        condition = df['stars'] == 3 # 3 \"estrelas\"\n",
    "    if(sentiment == 'NEGATIVO'):\n",
    "        condition = df['stars'] <= 2 # 1 e 2 \"estrelas\"\n",
    "        \n",
    "    np.random.seed(seed=seedNumber)\n",
    "    return np.random.choice(df['text'][condition], quantity, replace=False)\n",
    "\n",
    "def random_select_sentiment(seedNumber, df, sentiment, quantity):\n",
    "    condition = df['sentiment'] == sentiment\n",
    "    np.random.seed(seed=seedNumber)\n",
    "    return np.random.choice(df['text'][condition], quantity, replace=False)\n",
    "\n",
    "def select_data(df):\n",
    "    positive = random_select(100, df, 'POSITIVO', 15)\n",
    "    neutral = random_select(100, df, 'NEUTRO', 45)\n",
    "    negative = random_select(100, df, 'NEGATIVO', 20)\n",
    "    select = np.concatenate([positive, neutral, negative])\n",
    "    \n",
    "    df = df[df['text'].isin(select)].reset_index(drop=True)\n",
    "    df = df.sample(frac=1).reset_index(drop=True)\n",
    "    \n",
    "    return df\n",
    "    \n",
    "df = select_data(df)\n",
    "\n",
    "# =============================================================================\n",
    "# Pré processamento\n",
    "# ============================================================================= \n",
    "nlp = spacy.load(\"pt_core_news_sm\", disable=['parser', 'ner'])\n",
    "stemmer = nltk.stem.RSLPStemmer()\n",
    "\n",
    "def remove_stopwords(text):\n",
    "    # Remove stopwords\n",
    "    stop_words = [word for word in nlp.Defaults.stop_words]\n",
    "    stop_words.remove('não') # tirando a palavra \"não\" das stopwords\n",
    "    cleaned_text = \" \".join([i for i in text if i not in set(stop_words)])\n",
    "   \n",
    "    return cleaned_text\n",
    "    \n",
    "def clean_text(text):\n",
    "    # Aplica a remoção de stopwords, caracteres não alfabéticos e outras palavras curtas\n",
    "    df_corpus = []\n",
    "    df_c = re.sub('[^A-Za-záàâãéèêíïóôõöúçñÁÀÂÃÉÈÍÏÓÔÕÖÚÇÑ]', ' ', text).lower().split()\n",
    "    df_corpus.append(df_c)\n",
    "    df_corpus= pd.Series(df_corpus).apply(lambda x: ' '.join([w for w in x if len(w)>2]))\n",
    "    corpus = [remove_stopwords(r.split()) for r in df_corpus]  \n",
    "    \n",
    "    return corpus\n",
    "        \n",
    "def lemmatization(text):\n",
    "    # Extrai o lema das palavras\n",
    "    global nlp\n",
    "    output = []\n",
    "    \n",
    "    for sent in text:\n",
    "        doc = nlp(\" \".join(sent)) \n",
    "        output.append([token.lemma_ for token in doc])\n",
    "\n",
    "    return output\n",
    "    \n",
    "def lemmatize(text):\n",
    "    # Aplica a limpeza do texto e a lemmatização\n",
    "    token = lemmatization(pd.Series(clean_text(text)).apply(lambda x: x.split()))\n",
    "    token_lemma = []\n",
    "    for i in range(len(token)):\n",
    "        token_lemma.append(' '.join(token[i]))\n",
    "    \n",
    "    return token_lemma\n",
    "    \n",
    "corpus = []\n",
    "for review in df['text']:\n",
    "    result = lemmatize(review)\n",
    "    corpus.append(result[0])\n",
    "    \n",
    "df['corpus'] = corpus\n",
    "df['sentiment'] = ['POSITIVO','NEGATIVO','POSITIVO','NEGATIVO','NEGATIVO','POSITIVO','NEUTRO','NEGATIVO',\n",
    "                   'POSITIVO','NEGATIVO','POSITIVO','NEUTRO','NEGATIVO','NEGATIVO','POSITIVO','POSITIVO','POSITIVO',\n",
    "                   'NEGATIVO','POSITIVO','POSITIVO','POSITIVO','NEGATIVO','POSITIVO','POSITIVO','NEUTRO','NEGATIVO',\n",
    "                   'NEUTRO','NEUTRO','POSITIVO','NEUTRO','NEUTRO','NEGATIVO','NEGATIVO','POSITIVO','NEUTRO','POSITIVO',\n",
    "                   'NEUTRO','NEGATIVO','POSITIVO','POSITIVO','POSITIVO','POSITIVO','POSITIVO','POSITIVO','NEUTRO',\n",
    "                   'NEGATIVO','POSITIVO','NEGATIVO','NEGATIVO','NEUTRO','POSITIVO','POSITIVO','NEGATIVO','POSITIVO',\n",
    "                   'NEGATIVO','POSITIVO','POSITIVO','NEUTRO','NEGATIVO','POSITIVO','NEUTRO','NEGATIVO','POSITIVO',\n",
    "                   'POSITIVO','POSITIVO','NEGATIVO','NEGATIVO','POSITIVO','NEUTRO','POSITIVO','POSITIVO','NEUTRO',\n",
    "                   'NEUTRO','NEUTRO','NEUTRO','POSITIVO','NEGATIVO','POSITIVO','NEUTRO','NEUTRO']\n",
    "\n",
    "positive = random_select_sentiment(21, df, 'POSITIVO', 20)\n",
    "neutral = random_select_sentiment(21, df, 'NEUTRO', 20)\n",
    "negative = random_select_sentiment(21, df, 'NEGATIVO', 20)\n",
    "select = np.concatenate([positive, neutral, negative])\n",
    "    \n",
    "df = df[df['text'].isin(select)].reset_index(drop=True)\n",
    "df = df.sample(frac=1).reset_index(drop=True)\n",
    "df['sentiment'].value_counts()"
   ]
  },
  {
   "cell_type": "markdown",
   "id": "12820ba2",
   "metadata": {
    "papermill": {
     "duration": 0.009632,
     "end_time": "2023-11-13T23:52:52.116995",
     "exception": false,
     "start_time": "2023-11-13T23:52:52.107363",
     "status": "completed"
    },
    "tags": []
   },
   "source": [
    "### Bag of Words + TD-IDF"
   ]
  },
  {
   "cell_type": "code",
   "execution_count": 3,
   "id": "7f8fe2e2",
   "metadata": {
    "execution": {
     "iopub.execute_input": "2023-11-13T23:52:52.138696Z",
     "iopub.status.busy": "2023-11-13T23:52:52.138262Z",
     "iopub.status.idle": "2023-11-13T23:52:52.144394Z",
     "shell.execute_reply": "2023-11-13T23:52:52.143029Z"
    },
    "papermill": {
     "duration": 0.020158,
     "end_time": "2023-11-13T23:52:52.146995",
     "exception": false,
     "start_time": "2023-11-13T23:52:52.126837",
     "status": "completed"
    },
    "tags": []
   },
   "outputs": [],
   "source": [
    "vectorizer = TfidfVectorizer(min_df=0., max_df=1., norm='l2', use_idf=True)"
   ]
  },
  {
   "cell_type": "markdown",
   "id": "b8919607",
   "metadata": {
    "papermill": {
     "duration": 0.009537,
     "end_time": "2023-11-13T23:52:52.166449",
     "exception": false,
     "start_time": "2023-11-13T23:52:52.156912",
     "status": "completed"
    },
    "tags": []
   },
   "source": [
    "### Word2vec"
   ]
  },
  {
   "cell_type": "code",
   "execution_count": 4,
   "id": "0b6c7329",
   "metadata": {
    "execution": {
     "iopub.execute_input": "2023-11-13T23:52:52.188127Z",
     "iopub.status.busy": "2023-11-13T23:52:52.187681Z",
     "iopub.status.idle": "2023-11-13T23:52:52.225020Z",
     "shell.execute_reply": "2023-11-13T23:52:52.224005Z"
    },
    "papermill": {
     "duration": 0.051239,
     "end_time": "2023-11-13T23:52:52.227590",
     "exception": false,
     "start_time": "2023-11-13T23:52:52.176351",
     "status": "completed"
    },
    "tags": []
   },
   "outputs": [],
   "source": [
    "words = [line.split() for line in corpus]\n",
    "phrases = Phrases(words, min_count=1, threshold=2, progress_per=1000) \n",
    "bigram = Phraser(phrases)\n",
    "sentences = bigram[words]\n",
    "\n",
    "w2v_model = word2vec.Word2Vec(min_count=1,epochs = 50)\n",
    "\n",
    "w2v_model.build_vocab(sentences, progress_per=100)"
   ]
  },
  {
   "cell_type": "markdown",
   "id": "2428f2c5",
   "metadata": {
    "papermill": {
     "duration": 0.009664,
     "end_time": "2023-11-13T23:52:52.247115",
     "exception": false,
     "start_time": "2023-11-13T23:52:52.237451",
     "status": "completed"
    },
    "tags": []
   },
   "source": [
    "### Treinamentos"
   ]
  },
  {
   "cell_type": "code",
   "execution_count": 5,
   "id": "13fa4297",
   "metadata": {
    "execution": {
     "iopub.execute_input": "2023-11-13T23:52:52.268831Z",
     "iopub.status.busy": "2023-11-13T23:52:52.268404Z",
     "iopub.status.idle": "2023-11-13T23:52:52.325553Z",
     "shell.execute_reply": "2023-11-13T23:52:52.324051Z"
    },
    "papermill": {
     "duration": 0.071312,
     "end_time": "2023-11-13T23:52:52.328238",
     "exception": false,
     "start_time": "2023-11-13T23:52:52.256926",
     "status": "completed"
    },
    "tags": []
   },
   "outputs": [
    {
     "name": "stdout",
     "output_type": "stream",
     "text": [
      "-----------------------------------------------------------------------------\n",
      "POSITIVO: 20 | Treino: 5 | Teste: 15\n",
      "NEUTRO: 20   | Treino: 5 | Teste: 15\n",
      "NEGATIVO: 20 | Treino: 5 | Teste: 15\n",
      "-----------------------------------------------------------------------------\n"
     ]
    }
   ],
   "source": [
    "def separate_training_and_testing_data(df):\n",
    "    # Organização dos dados de treino e teste para inserir no algoritmo\n",
    "    positive_reviews = []\n",
    "    neutral_reviews = []\n",
    "    negative_reviews = []\n",
    "\n",
    "    for classified_review in df:\n",
    "        if classified_review['sentiment'] == 'POSITIVO':\n",
    "            positive_reviews.append(classified_review)\n",
    "        if classified_review['sentiment'] == 'NEUTRO':\n",
    "            neutral_reviews.append(classified_review)\n",
    "        if classified_review['sentiment'] == 'NEGATIVO':\n",
    "            negative_reviews.append(classified_review)\n",
    "\n",
    "    positive_training = positive_reviews[:5]\n",
    "    neutral_training = neutral_reviews[:5]\n",
    "    negative_training = negative_reviews[:5]\n",
    "\n",
    "    print('-----------------------------------------------------------------------------')\n",
    "    print('POSITIVO:', len(positive_reviews),'| Treino:', len(positive_training),'| Teste:', len(positive_reviews[5:]))\n",
    "    print('NEUTRO:', len(neutral_reviews),'  | Treino:', len(neutral_training),'| Teste:', len(neutral_reviews[5:]))\n",
    "    print('NEGATIVO:', len(negative_reviews),'| Treino:', len(negative_training),'| Teste:', len(negative_reviews[5:]))\n",
    "    print('-----------------------------------------------------------------------------')\n",
    "\n",
    "    training_data = positive_training + neutral_training + negative_training\n",
    "    testing_data = positive_reviews[5:] + neutral_reviews[5:] + negative_reviews[5:]\n",
    "\n",
    "    return {'testing_data': testing_data,'training_data': training_data}\n",
    "\n",
    "comparison_data = separate_training_and_testing_data(df.to_dict(\"records\"))\n",
    "train_data = pd.DataFrame(comparison_data['training_data'])\n",
    "test_data = pd.DataFrame(comparison_data['testing_data'])\n",
    "\n",
    "# =============================================================================\n",
    "# Word2Vec\n",
    "# =============================================================================\n",
    "\n",
    "doc_embeddings_train = []\n",
    "for row in train_data.iterrows():\n",
    "    sentence = row[1]['corpus'].split()\n",
    "    result = []\n",
    "    for word in sentence:\n",
    "        result.append(w2v_model.wv[word])\n",
    "    result = np.mean(np.array(result),axis=0)\n",
    "    doc_embeddings_train.append(result)\n",
    "\n",
    "w2v_train_df = pd.DataFrame(np.array(doc_embeddings_train))\n",
    "\n",
    "doc_embeddings_test = []\n",
    "for row in test_data.iterrows():\n",
    "    sentence = row[1]['corpus'].split()\n",
    "    result = []\n",
    "    for word in sentence:\n",
    "        try:\n",
    "            result.append(w2v_model.wv[word])\n",
    "        except:\n",
    "            1\n",
    "    result = np.mean(np.array(result),axis=0)\n",
    "    doc_embeddings_test.append(result)\n",
    "    \n",
    "w2v_test_df = pd.DataFrame(np.array(doc_embeddings_test))\n",
    "\n",
    "# =============================================================================\n",
    "# Bag of Words\n",
    "# =============================================================================\n",
    "\n",
    "bow_train_df = pd.DataFrame(vectorizer.fit_transform(train_data['corpus']).todense(), columns=vectorizer.get_feature_names_out())\n",
    "bow_test_df = pd.DataFrame(vectorizer.transform(test_data['corpus']).todense(), columns=vectorizer.get_feature_names_out())"
   ]
  },
  {
   "cell_type": "markdown",
   "id": "77bbec9f",
   "metadata": {
    "papermill": {
     "duration": 0.009665,
     "end_time": "2023-11-13T23:52:52.347943",
     "exception": false,
     "start_time": "2023-11-13T23:52:52.338278",
     "status": "completed"
    },
    "tags": []
   },
   "source": [
    "### Comparação entre os treinamentos"
   ]
  },
  {
   "cell_type": "code",
   "execution_count": 6,
   "id": "b00d8693",
   "metadata": {
    "execution": {
     "iopub.execute_input": "2023-11-13T23:52:52.369376Z",
     "iopub.status.busy": "2023-11-13T23:52:52.368943Z",
     "iopub.status.idle": "2023-11-13T23:52:53.547917Z",
     "shell.execute_reply": "2023-11-13T23:52:53.546682Z"
    },
    "papermill": {
     "duration": 1.192875,
     "end_time": "2023-11-13T23:52:53.550561",
     "exception": false,
     "start_time": "2023-11-13T23:52:52.357686",
     "status": "completed"
    },
    "tags": []
   },
   "outputs": [
    {
     "name": "stdout",
     "output_type": "stream",
     "text": [
      "-----------------------------------------------------------------------------\n",
      "Matriz de confusão - Bag of Words\n"
     ]
    },
    {
     "data": {
      "image/png": "[encoded data removed]",
      "text/plain": [
       "<Figure size 640x480 with 2 Axes>"
      ]
     },
     "metadata": {},
     "output_type": "display_data"
    }
   ],
   "source": [
    "mlp = MLPClassifier(hidden_layer_sizes=(100, 50, 10), random_state=7, max_iter=10000)\n",
    "\n",
    "y_train = train_data.iloc[:, -1]\n",
    "y_test = test_data.iloc[:, -1]\n",
    "\n",
    "all_scores = []\n",
    "\n",
    "# =============================================================================\n",
    "# Bag of Words\n",
    "# =============================================================================\n",
    "mlp.fit(bow_train_df, y_train)\n",
    "bow_predict = mlp.predict(bow_test_df)\n",
    "bow_acc_test_score = accuracy_score(y_test, bow_predict)\n",
    "bow_pre_test_score = precision_score(y_test, bow_predict, average='weighted')\n",
    "    \n",
    "print('-----------------------------------------------------------------------------')\n",
    "print('Matriz de confusão - Bag of Words')\n",
    "data = {'Manual': y_test, 'Predito': bow_predict}\n",
    "df_matrix = pd.DataFrame(data, columns=['Manual','Predito'])\n",
    "conf = pd.crosstab(df_matrix['Manual'], df_matrix['Predito'], rownames=['Manual'], colnames=['Predito'])\n",
    "sn.heatmap(conf, annot=True, annot_kws={\"size\":12}, cmap=plt.cm.Blues)\n",
    "    \n",
    "all_scores.append(('Multilayer Perceptron', 'Bag of words', bow_acc_test_score, bow_pre_test_score))"
   ]
  },
  {
   "cell_type": "code",
   "execution_count": 7,
   "id": "ec5ac605",
   "metadata": {
    "execution": {
     "iopub.execute_input": "2023-11-13T23:52:53.573531Z",
     "iopub.status.busy": "2023-11-13T23:52:53.573117Z",
     "iopub.status.idle": "2023-11-13T23:52:54.506059Z",
     "shell.execute_reply": "2023-11-13T23:52:54.504841Z"
    },
    "papermill": {
     "duration": 0.947652,
     "end_time": "2023-11-13T23:52:54.508875",
     "exception": false,
     "start_time": "2023-11-13T23:52:53.561223",
     "status": "completed"
    },
    "tags": []
   },
   "outputs": [
    {
     "name": "stdout",
     "output_type": "stream",
     "text": [
      "-----------------------------------------------------------------------------\n",
      "Matriz de confusão - Word2Vec\n"
     ]
    },
    {
     "data": {
      "image/png": "[encoded data removed]",
      "text/plain": [
       "<Figure size 640x480 with 2 Axes>"
      ]
     },
     "metadata": {},
     "output_type": "display_data"
    }
   ],
   "source": [
    "mlp = MLPClassifier(hidden_layer_sizes=(100, 50, 10), random_state=7, max_iter=10000)\n",
    "\n",
    "# =============================================================================\n",
    "# Word2Vec\n",
    "# =============================================================================\n",
    "mlp.fit(w2v_train_df, y_train)\n",
    "w2v_predict = mlp.predict(w2v_test_df)\n",
    "w2v_acc_test_score = accuracy_score(y_test, w2v_predict)\n",
    "w2v_pre_test_score = precision_score(y_test, w2v_predict, average='weighted')\n",
    "    \n",
    "print('-----------------------------------------------------------------------------')\n",
    "print('Matriz de confusão - Word2Vec')\n",
    "data = {'Manual': y_test, 'Predito': w2v_predict}\n",
    "df_matrix = pd.DataFrame(data, columns=['Manual','Predito'])\n",
    "conf = pd.crosstab(df_matrix['Manual'], df_matrix['Predito'], rownames=['Manual'], colnames=['Predito'])\n",
    "sn.heatmap(conf, annot=True, annot_kws={\"size\":12}, cmap=plt.cm.Blues)\n",
    "    \n",
    "all_scores.append(('Multilayer Perceptron', 'Word2Vec', w2v_acc_test_score, w2v_pre_test_score))"
   ]
  },
  {
   "cell_type": "code",
   "execution_count": 8,
   "id": "c986e9e3",
   "metadata": {
    "execution": {
     "iopub.execute_input": "2023-11-13T23:52:54.533579Z",
     "iopub.status.busy": "2023-11-13T23:52:54.532584Z",
     "iopub.status.idle": "2023-11-13T23:52:54.551062Z",
     "shell.execute_reply": "2023-11-13T23:52:54.549883Z"
    },
    "papermill": {
     "duration": 0.033592,
     "end_time": "2023-11-13T23:52:54.553735",
     "exception": false,
     "start_time": "2023-11-13T23:52:54.520143",
     "status": "completed"
    },
    "tags": []
   },
   "outputs": [
    {
     "data": {
      "text/html": [
       "<div>\n",
       "<style scoped>\n",
       "    .dataframe tbody tr th:only-of-type {\n",
       "        vertical-align: middle;\n",
       "    }\n",
       "\n",
       "    .dataframe tbody tr th {\n",
       "        vertical-align: top;\n",
       "    }\n",
       "\n",
       "    .dataframe thead th {\n",
       "        text-align: right;\n",
       "    }\n",
       "</style>\n",
       "<table border=\"1\" class=\"dataframe\">\n",
       "  <thead>\n",
       "    <tr style=\"text-align: right;\">\n",
       "      <th></th>\n",
       "      <th>Modelo</th>\n",
       "      <th>Embedding</th>\n",
       "      <th>Acurácia</th>\n",
       "      <th>Precisão</th>\n",
       "    </tr>\n",
       "  </thead>\n",
       "  <tbody>\n",
       "    <tr>\n",
       "      <th>0</th>\n",
       "      <td>Multilayer Perceptron</td>\n",
       "      <td>Bag of words</td>\n",
       "      <td>0.400000</td>\n",
       "      <td>0.394958</td>\n",
       "    </tr>\n",
       "    <tr>\n",
       "      <th>1</th>\n",
       "      <td>Multilayer Perceptron</td>\n",
       "      <td>Word2Vec</td>\n",
       "      <td>0.422222</td>\n",
       "      <td>0.515833</td>\n",
       "    </tr>\n",
       "  </tbody>\n",
       "</table>\n",
       "</div>"
      ],
      "text/plain": [
       "                  Modelo     Embedding  Acurácia  Precisão\n",
       "0  Multilayer Perceptron  Bag of words  0.400000  0.394958\n",
       "1  Multilayer Perceptron      Word2Vec  0.422222  0.515833"
      ]
     },
     "execution_count": 8,
     "metadata": {},
     "output_type": "execute_result"
    }
   ],
   "source": [
    "scores_df = pd.DataFrame(all_scores, columns=['Modelo', 'Embedding', 'Acurácia', 'Precisão'])\n",
    "scores_df"
   ]
  },
  {
   "cell_type": "code",
   "execution_count": 9,
   "id": "a1eafde1",
   "metadata": {
    "execution": {
     "iopub.execute_input": "2023-11-13T23:52:54.579030Z",
     "iopub.status.busy": "2023-11-13T23:52:54.578052Z",
     "iopub.status.idle": "2023-11-13T23:52:55.056104Z",
     "shell.execute_reply": "2023-11-13T23:52:55.054893Z"
    },
    "papermill": {
     "duration": 0.493783,
     "end_time": "2023-11-13T23:52:55.058869",
     "exception": false,
     "start_time": "2023-11-13T23:52:54.565086",
     "status": "completed"
    },
    "tags": []
   },
   "outputs": [
    {
     "name": "stdout",
     "output_type": "stream",
     "text": [
      "\n"
     ]
    },
    {
     "data": {
      "image/png": "[encoded data removed]",
      "text/plain": [
       "<Figure size 1500x500 with 2 Axes>"
      ]
     },
     "metadata": {},
     "output_type": "display_data"
    }
   ],
   "source": [
    "import seaborn as sns\n",
    "import matplotlib.pyplot as plt\n",
    "\n",
    "fig, axes = plt.subplots(1, 2, figsize=(15, 5), sharey=True)\n",
    "plt.ylim([0, 1])\n",
    "\n",
    "fig.suptitle('Modelos e Métricas')\n",
    "sns.barplot(ax=axes[0], data=scores_df, x='Modelo', y='Acurácia', hue='Embedding');\n",
    "sns.barplot(ax=axes[1], data=scores_df, x='Modelo', y='Precisão', hue='Embedding');\n",
    "print()"
   ]
  },
  {
   "cell_type": "markdown",
   "id": "f0968e05",
   "metadata": {
    "papermill": {
     "duration": 0.01152,
     "end_time": "2023-11-13T23:52:55.082459",
     "exception": false,
     "start_time": "2023-11-13T23:52:55.070939",
     "status": "completed"
    },
    "tags": []
   },
   "source": [
    "2. (PP.4.2) Crie uma aplicação baseada em word2vec que, dada uma frase informada pelo usuário,reescreva essa frase substituindo algumas de suas palavras por sinônimos. Esses sinônimos deverão ser escolhidos utilizando um critério de distância ou ângulo mínimo. Na sua resposta, mostre a base de dados utilizada para treinamento e substituição das palavras e diga se isso afeta ou não o desempenho do sistema. "
   ]
  },
  {
   "cell_type": "code",
   "execution_count": 10,
   "id": "31287ef1",
   "metadata": {
    "execution": {
     "iopub.execute_input": "2023-11-13T23:52:55.108622Z",
     "iopub.status.busy": "2023-11-13T23:52:55.108229Z",
     "iopub.status.idle": "2023-11-13T23:52:57.712805Z",
     "shell.execute_reply": "2023-11-13T23:52:57.711841Z"
    },
    "papermill": {
     "duration": 2.620155,
     "end_time": "2023-11-13T23:52:57.715081",
     "exception": false,
     "start_time": "2023-11-13T23:52:55.094926",
     "status": "completed"
    },
    "tags": []
   },
   "outputs": [
    {
     "data": {
      "text/html": [
       "<div>\n",
       "<style scoped>\n",
       "    .dataframe tbody tr th:only-of-type {\n",
       "        vertical-align: middle;\n",
       "    }\n",
       "\n",
       "    .dataframe tbody tr th {\n",
       "        vertical-align: top;\n",
       "    }\n",
       "\n",
       "    .dataframe thead th {\n",
       "        text-align: right;\n",
       "    }\n",
       "</style>\n",
       "<table border=\"1\" class=\"dataframe\">\n",
       "  <thead>\n",
       "    <tr style=\"text-align: right;\">\n",
       "      <th></th>\n",
       "      <th>text</th>\n",
       "    </tr>\n",
       "  </thead>\n",
       "  <tbody>\n",
       "    <tr>\n",
       "      <th>0</th>\n",
       "      <td>Estou contente com a compra entrega rápida o ú...</td>\n",
       "    </tr>\n",
       "    <tr>\n",
       "      <th>1</th>\n",
       "      <td>Por apenas R$1994.20,eu consegui comprar esse ...</td>\n",
       "    </tr>\n",
       "    <tr>\n",
       "      <th>2</th>\n",
       "      <td>SUPERA EM AGILIDADE E PRATICIDADE OUTRAS PANEL...</td>\n",
       "    </tr>\n",
       "    <tr>\n",
       "      <th>3</th>\n",
       "      <td>MEU FILHO AMOU! PARECE DE VERDADE COM TANTOS D...</td>\n",
       "    </tr>\n",
       "    <tr>\n",
       "      <th>4</th>\n",
       "      <td>A entrega foi no prazo, as americanas estão de...</td>\n",
       "    </tr>\n",
       "  </tbody>\n",
       "</table>\n",
       "</div>"
      ],
      "text/plain": [
       "                                                text\n",
       "0  Estou contente com a compra entrega rápida o ú...\n",
       "1  Por apenas R$1994.20,eu consegui comprar esse ...\n",
       "2  SUPERA EM AGILIDADE E PRATICIDADE OUTRAS PANEL...\n",
       "3  MEU FILHO AMOU! PARECE DE VERDADE COM TANTOS D...\n",
       "4  A entrega foi no prazo, as americanas estão de..."
      ]
     },
     "execution_count": 10,
     "metadata": {},
     "output_type": "execute_result"
    }
   ],
   "source": [
    "# Importando as bibliotecas\n",
    "import gensim\n",
    "import re\n",
    "import pandas as pd\n",
    "import spacy\n",
    "import nltk\n",
    "from nltk.tokenize import RegexpTokenizer\n",
    "from nltk.corpus import mac_morpho\n",
    "\n",
    "# Carregando base de dados\n",
    "url = 'https://raw.githubusercontent.com/americanas-tech/b2w-reviews01/main/B2W-Reviews01.csv'\n",
    "\n",
    "data = pd.DataFrame()\n",
    "data = pd.read_csv(url, sep = ',', encoding='utf-8',low_memory=False)\n",
    "\n",
    "# Removendo colunas não relevantes\n",
    "data.rename(columns = {'review_text':'text'}, inplace=True)\n",
    "data = data[~data['text'].isna()].reset_index(drop=True)\n",
    "data = data[data['text'].str.contains(\"\\w\")]\n",
    "data = data[data['text'].str.len() > 3]\n",
    "data = data.drop_duplicates('text').reset_index(drop=True)\n",
    "data = data.drop(columns=[\n",
    "      'reviewer_id',\n",
    "      'product_brand',\n",
    "      'site_category_lv1',\n",
    "      'site_category_lv2',\n",
    "      'review_title',\n",
    "      'recommend_to_a_friend',\n",
    "      'overall_rating',\n",
    "      'product_id',\n",
    "      'product_name',\n",
    "      'reviewer_birth_year',\n",
    "      'reviewer_gender',\n",
    "      'reviewer_state',\n",
    "      'submission_date'\n",
    "      ])\n",
    "\n",
    "data.head()"
   ]
  },
  {
   "cell_type": "code",
   "execution_count": 11,
   "id": "cb59de3f",
   "metadata": {
    "execution": {
     "iopub.execute_input": "2023-11-13T23:52:57.742253Z",
     "iopub.status.busy": "2023-11-13T23:52:57.741603Z",
     "iopub.status.idle": "2023-11-13T23:52:58.237908Z",
     "shell.execute_reply": "2023-11-13T23:52:58.236416Z"
    },
    "papermill": {
     "duration": 0.513107,
     "end_time": "2023-11-13T23:52:58.240666",
     "exception": false,
     "start_time": "2023-11-13T23:52:57.727559",
     "status": "completed"
    },
    "tags": []
   },
   "outputs": [
    {
     "name": "stdout",
     "output_type": "stream",
     "text": [
      "[['Estou', 'contente', 'com', 'a', 'compra', 'entrega', 'rápida', 'o', 'único', 'problema', 'com', 'as', 'Americanas', 'é', 'se', 'houver', 'troca', 'ou', 'devolução', 'do', 'produto', 'o', 'consumidor', 'tem', 'problemas', 'com', 'espera.'], ['Por', 'apenas', 'R$1994.20,eu', 'consegui', 'comprar', 'esse', 'lindo', 'copo', 'de', 'acrílico.'], ['SUPERA', 'EM', 'AGILIDADE', 'E', 'PRATICIDADE', 'OUTRAS', 'PANELAS', 'ELÉTRICAS.', '', 'COSTUMO', 'USAR', 'OUTRA', 'PANELA', 'PARA', 'COZIMENTO', 'DE', 'ARROZ', '(JAPONESA),', 'MAS', 'LEVA', 'MUITO', 'TEMPO,', '', '+/-', '50', 'MINUTOS.', '', 'NESSA', 'PANELA', '', 'É', 'MUITO', 'MAIS', 'RÁPIDO,', 'EXATAMENTE', '6', 'MINUTOS.', '', '', '', 'EU', 'RECOMENDO.'], ['MEU', 'FILHO', 'AMOU!', 'PARECE', 'DE', 'VERDADE', 'COM', 'TANTOS', 'DETALHES', 'QUE', 'TÊM!'], ['A', 'entrega', 'foi', 'no', 'prazo,', 'as', 'americanas', 'estão', 'de', 'parabéns.', 'A', 'smart', 'tv', 'é', 'muito', 'boa,', 'a', 'navegação', 'na', 'internete', 'e', 'pelos', 'aplicativos', 'e', 'excelente,', 'não', 'trava,', 'sem', 'falar', 'da', 'imagem', 'que', 'é', 'de', 'surpreender.', 'recomendo.'], ['Excelente', 'produto,', 'por', 'fora', 'em', 'material', 'acrílico', 'super', 'resistente', 'e', 'por', 'dentro', 'em', 'adamantio,', 'faz', 'milagre', 'com', 'qualquer', 'bebida.', 'Sugiro', 'aproveitarem', 'a', 'promoção', 'antes', 'que', 'acabe.'], ['produto', 'mto', 'bom,', 'com', 'essa', 'garrafinha', 'vc', 'pode', 'até', 'servir', 'água', 'pro', 'megazord.', 'To', 'pensando', 'em', 'vender', 'minha', 'tv', 'pra', 'comprar', '1', 'garrafa', 'dessa.', 'RECOMENDO'], ['Produto', 'excelente', 'qualidade', 'boa', 'câmera', 'desenvolvimento', 'do', 'Android', 'com', 'rapidez'], ['O', 'barulho', 'e', 'minimo', 'e', 'o', 'vento', 'é', 'bem', 'forte', 'na', 'velocidade', '2'], ['MEU', 'PRODUTO', 'NAO', 'FOI', 'ENTREGUE', 'E', 'A', 'AMERICANAS', 'ESTA', 'DESCONTANDO', 'NA', 'FATURA', 'DO', 'MEU', 'CARTÃO']]\n"
     ]
    }
   ],
   "source": [
    "# Criando array com sentenças\n",
    "sentences = []\n",
    "\n",
    "for sentence in data['text'].values.tolist():\n",
    "    sentences.append(sentence.split(\" \"))\n",
    "\n",
    "print(sentences[0:10])"
   ]
  },
  {
   "cell_type": "code",
   "execution_count": 12,
   "id": "cfe5ff8c",
   "metadata": {
    "execution": {
     "iopub.execute_input": "2023-11-13T23:52:58.267909Z",
     "iopub.status.busy": "2023-11-13T23:52:58.266822Z",
     "iopub.status.idle": "2023-11-14T00:09:54.025861Z",
     "shell.execute_reply": "2023-11-14T00:09:54.024616Z"
    },
    "papermill": {
     "duration": 1015.789001,
     "end_time": "2023-11-14T00:09:54.042046",
     "exception": false,
     "start_time": "2023-11-13T23:52:58.253045",
     "status": "completed"
    },
    "tags": []
   },
   "outputs": [
    {
     "name": "stdout",
     "output_type": "stream",
     "text": [
      "[['contente', 'compra', 'entrega', 'rápida', 'único', 'problema', 'americanas', 'houver', 'troca', 'devolução', 'produto', 'consumidor', 'problemas', 'espera'], ['reu', 'consegui', 'comprar', 'lindo', 'copo', 'acrílico'], ['supera', 'agilidade', 'praticidade', 'panelas', 'elétricas', 'costumo', 'panela', 'cozimento', 'arroz', 'japonesa', 'leva', 'minutos', 'panela', 'rápido', 'exatamente', 'minutos', 'recomendo'], ['filho', 'amou', 'verdade', 'tantos', 'detalhes'], ['entrega', 'prazo', 'americanas', 'parabéns', 'smart', 'navegação', 'internete', 'aplicativos', 'excelente', 'não', 'trava', 'falar', 'imagem', 'surpreender', 'recomendo'], ['excelente', 'produto', 'material', 'acrílico', 'super', 'resistente', 'adamantio', 'milagre', 'bebida', 'sugiro', 'aproveitarem', 'promoção', 'acabe'], ['produto', 'mto', 'garrafinha', 'servir', 'água', 'pro', 'megazord', 'pensando', 'vender', 'pra', 'comprar', 'garrafa', 'recomendo'], ['produto', 'excelente', 'qualidade', 'câmera', 'desenvolvimento', 'android', 'rapidez'], ['barulho', 'minimo', 'vento', 'forte', 'velocidade'], ['produto', 'nao', 'entregue', 'americanas', 'descontando', 'fatura', 'cartão']]\n"
     ]
    }
   ],
   "source": [
    "# Limpando sentenças\n",
    "nlp = spacy.load(\"pt_core_news_sm\", disable=['parser', 'ner'])\n",
    "\n",
    "def remove_stopwords(text):\n",
    "    # Remove stopwords\n",
    "    stop_words = [word for word in nlp.Defaults.stop_words]\n",
    "    stop_words.remove('não') # tirando a palavra \"não\" das stopwords\n",
    "    cleaned_text = \" \".join([i for i in text if i not in set(stop_words)])\n",
    "   \n",
    "    return cleaned_text\n",
    "\n",
    "def clean_text(text):\n",
    "    # Aplica a remoção de stopwords, caracteres não alfabéticos e outras palavras curtas\n",
    "    df_corpus = []\n",
    "    df_c = re.sub('[^A-Za-záàâãéèêíïóôõöúçñÁÀÂÃÉÈÍÏÓÔÕÖÚÇÑ]', '', text).lower().split()\n",
    "    df_corpus.append(df_c)\n",
    "    df_corpus= pd.Series(df_corpus).apply(lambda x: ' '.join([w for w in x if len(w)>2]))\n",
    "    corpus = [remove_stopwords(r.split()) for r in df_corpus]  \n",
    "    \n",
    "    return corpus\n",
    "\n",
    "database = []\n",
    "\n",
    "for sentence in sentences:\n",
    "    sentences = []\n",
    "    \n",
    "    for word in sentence:\n",
    "        cleaned_word = clean_text(word)[0]\n",
    "        if cleaned_word != \"\":\n",
    "            sentences.append(cleaned_word)\n",
    "    \n",
    "    database.append(sentences)\n",
    "    \n",
    "print(database[0:10])"
   ]
  },
  {
   "cell_type": "code",
   "execution_count": 13,
   "id": "77f227f9",
   "metadata": {
    "execution": {
     "iopub.execute_input": "2023-11-14T00:09:54.069330Z",
     "iopub.status.busy": "2023-11-14T00:09:54.068549Z",
     "iopub.status.idle": "2023-11-14T00:10:02.738694Z",
     "shell.execute_reply": "2023-11-14T00:10:02.737178Z"
    },
    "papermill": {
     "duration": 8.688557,
     "end_time": "2023-11-14T00:10:02.742877",
     "exception": false,
     "start_time": "2023-11-14T00:09:54.054320",
     "status": "completed"
    },
    "tags": []
   },
   "outputs": [
    {
     "data": {
      "text/plain": [
       "[('horrível', 0.8243373036384583),\n",
       " ('péssimo', 0.7779094576835632),\n",
       " ('fraco', 0.7654045224189758)]"
      ]
     },
     "execution_count": 13,
     "metadata": {},
     "output_type": "execute_result"
    }
   ],
   "source": [
    "# Treinamento do modelo\n",
    "model = gensim.models.Word2Vec(database)\n",
    "\n",
    "# Salvando o modelo treinado\n",
    "model.save('mac_morpho_model')\n",
    "saved_model = gensim.models.Word2Vec.load('mac_morpho_model')\n",
    "\n",
    "# Retornando as 3 palavras mais similares\n",
    "saved_model.wv.most_similar(positive = ['ruim'], topn = 3)"
   ]
  },
  {
   "cell_type": "code",
   "execution_count": 14,
   "id": "308181c2",
   "metadata": {
    "execution": {
     "iopub.execute_input": "2023-11-14T00:10:02.799731Z",
     "iopub.status.busy": "2023-11-14T00:10:02.797993Z",
     "iopub.status.idle": "2023-11-14T00:10:02.820834Z",
     "shell.execute_reply": "2023-11-14T00:10:02.819338Z"
    },
    "papermill": {
     "duration": 0.056016,
     "end_time": "2023-11-14T00:10:02.825328",
     "exception": false,
     "start_time": "2023-11-14T00:10:02.769312",
     "status": "completed"
    },
    "tags": []
   },
   "outputs": [
    {
     "name": "stdout",
     "output_type": "stream",
     "text": [
      "Frase original: Esse produto é muito bom\n",
      " Esse mercadoria é muito bom\n"
     ]
    }
   ],
   "source": [
    "# Criando função para retornar valores mais similares\n",
    "def transformText(text):\n",
    "    tranformed_text = saved_model.wv.most_similar(positive = [text], topn = 1)\n",
    "    return tranformed_text[0][0]\n",
    "\n",
    "# Substituindo algumas palavras da frase por valores similares\n",
    "def transformPhrase(phrase):\n",
    "    tranformed_phrase = \"\"\n",
    "    transform_texts = []\n",
    "    \n",
    "    for text in phrase.split(\" \"):\n",
    "        cleanned_text = clean_text(text)\n",
    "        \n",
    "        if cleanned_text[0] == \"\":\n",
    "            tranformed_phrase += \" \" + text\n",
    "        else:\n",
    "            transformed_text = transformText(cleanned_text[0])\n",
    "            tranformed_phrase += \" \" + transformed_text\n",
    "            \n",
    "    print(tranformed_phrase)\n",
    "    \n",
    "phrase = \"Esse produto é muito bom\"\n",
    "\n",
    "print(\"Frase original: \" + phrase)\n",
    "transformPhrase(phrase)"
   ]
  }
 ],
 "metadata": {
  "kaggle": {
   "accelerator": "none",
   "dataSources": [],
   "dockerImageVersionId": 30558,
   "isGpuEnabled": false,
   "isInternetEnabled": true,
   "language": "python",
   "sourceType": "notebook"
  },
  "kernelspec": {
   "display_name": "Python 3",
   "language": "python",
   "name": "python3"
  },
  "language_info": {
   "codemirror_mode": {
    "name": "ipython",
    "version": 3
   },
   "file_extension": ".py",
   "mimetype": "text/x-python",
   "name": "python",
   "nbconvert_exporter": "python",
   "pygments_lexer": "ipython3",
   "version": "3.10.12"
  },
  "papermill": {
   "default_parameters": {},
   "duration": 1122.478947,
   "end_time": "2023-11-14T00:10:05.664157",
   "environment_variables": {},
   "exception": null,
   "input_path": "__notebook__.ipynb",
   "output_path": "__notebook__.ipynb",
   "parameters": {},
   "start_time": "2023-11-13T23:51:23.185210",
   "version": "2.4.0"
  }
 },
 "nbformat": 4,
 "nbformat_minor": 5
}
